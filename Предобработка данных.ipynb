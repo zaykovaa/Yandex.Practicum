{
 "cells": [
  {
   "cell_type": "markdown",
   "id": "c821e988",
   "metadata": {
    "deletable": false,
    "editable": false,
    "id": "c81daeeb"
   },
   "source": [
    "# Исследование надежности заемщиков\n"
   ]
  },
  {
   "cell_type": "markdown",
   "id": "71b699cb",
   "metadata": {
    "deletable": false,
    "editable": false,
    "id": "827c20bf"
   },
   "source": [
    "Во второй части проекта вы выполните шаги 3 и 4. Их вручную проверит ревьюер.\n",
    "Чтобы вам не пришлось писать код заново для шагов 1 и 2, мы добавили авторские решения в ячейки с кодом. \n",
    "\n"
   ]
  },
  {
   "cell_type": "markdown",
   "id": "58c06cdb",
   "metadata": {
    "deletable": false,
    "editable": false,
    "id": "744d7639"
   },
   "source": [
    "## Откройте таблицу и изучите общую информацию о данных"
   ]
  },
  {
   "cell_type": "markdown",
   "id": "2567d705",
   "metadata": {
    "deletable": false,
    "editable": false,
    "id": "e7a14c31"
   },
   "source": [
    "**Задание 1. Импортируйте библиотеку pandas. Считайте данные из csv-файла в датафрейм и сохраните в переменную `data`. Путь к файлу:**\n",
    "\n",
    "`/datasets/data.csv`"
   ]
  },
  {
   "cell_type": "code",
   "execution_count": 52,
   "id": "486f32e7",
   "metadata": {
    "deletable": false,
    "id": "7bcf75c9"
   },
   "outputs": [],
   "source": [
    "import pandas as pd\n",
    "\n",
    "try:\n",
    "    data = pd.read_csv('/datasets/data.csv')\n",
    "except:\n",
    "    data = pd.read_csv('https://code.s3.yandex.net/datasets/data.csv')"
   ]
  },
  {
   "cell_type": "markdown",
   "id": "a9058684",
   "metadata": {
    "deletable": false,
    "editable": false,
    "id": "b8038fe3"
   },
   "source": [
    "**Задание 2. Выведите первые 20 строчек датафрейма `data` на экран.**"
   ]
  },
  {
   "cell_type": "code",
   "execution_count": 53,
   "id": "57ea13e6",
   "metadata": {
    "deletable": false,
    "id": "2a7cab99",
    "outputId": "1a8f3ef2-d323-4ec2-ddf7-89670b5944c4"
   },
   "outputs": [
    {
     "data": {
      "text/html": [
       "<div>\n",
       "<style scoped>\n",
       "    .dataframe tbody tr th:only-of-type {\n",
       "        vertical-align: middle;\n",
       "    }\n",
       "\n",
       "    .dataframe tbody tr th {\n",
       "        vertical-align: top;\n",
       "    }\n",
       "\n",
       "    .dataframe thead th {\n",
       "        text-align: right;\n",
       "    }\n",
       "</style>\n",
       "<table border=\"1\" class=\"dataframe\">\n",
       "  <thead>\n",
       "    <tr style=\"text-align: right;\">\n",
       "      <th></th>\n",
       "      <th>children</th>\n",
       "      <th>days_employed</th>\n",
       "      <th>dob_years</th>\n",
       "      <th>education</th>\n",
       "      <th>education_id</th>\n",
       "      <th>family_status</th>\n",
       "      <th>family_status_id</th>\n",
       "      <th>gender</th>\n",
       "      <th>income_type</th>\n",
       "      <th>debt</th>\n",
       "      <th>total_income</th>\n",
       "      <th>purpose</th>\n",
       "    </tr>\n",
       "  </thead>\n",
       "  <tbody>\n",
       "    <tr>\n",
       "      <th>0</th>\n",
       "      <td>1</td>\n",
       "      <td>-8437.673028</td>\n",
       "      <td>42</td>\n",
       "      <td>высшее</td>\n",
       "      <td>0</td>\n",
       "      <td>женат / замужем</td>\n",
       "      <td>0</td>\n",
       "      <td>F</td>\n",
       "      <td>сотрудник</td>\n",
       "      <td>0</td>\n",
       "      <td>253875.639453</td>\n",
       "      <td>покупка жилья</td>\n",
       "    </tr>\n",
       "    <tr>\n",
       "      <th>1</th>\n",
       "      <td>1</td>\n",
       "      <td>-4024.803754</td>\n",
       "      <td>36</td>\n",
       "      <td>среднее</td>\n",
       "      <td>1</td>\n",
       "      <td>женат / замужем</td>\n",
       "      <td>0</td>\n",
       "      <td>F</td>\n",
       "      <td>сотрудник</td>\n",
       "      <td>0</td>\n",
       "      <td>112080.014102</td>\n",
       "      <td>приобретение автомобиля</td>\n",
       "    </tr>\n",
       "    <tr>\n",
       "      <th>2</th>\n",
       "      <td>0</td>\n",
       "      <td>-5623.422610</td>\n",
       "      <td>33</td>\n",
       "      <td>Среднее</td>\n",
       "      <td>1</td>\n",
       "      <td>женат / замужем</td>\n",
       "      <td>0</td>\n",
       "      <td>M</td>\n",
       "      <td>сотрудник</td>\n",
       "      <td>0</td>\n",
       "      <td>145885.952297</td>\n",
       "      <td>покупка жилья</td>\n",
       "    </tr>\n",
       "    <tr>\n",
       "      <th>3</th>\n",
       "      <td>3</td>\n",
       "      <td>-4124.747207</td>\n",
       "      <td>32</td>\n",
       "      <td>среднее</td>\n",
       "      <td>1</td>\n",
       "      <td>женат / замужем</td>\n",
       "      <td>0</td>\n",
       "      <td>M</td>\n",
       "      <td>сотрудник</td>\n",
       "      <td>0</td>\n",
       "      <td>267628.550329</td>\n",
       "      <td>дополнительное образование</td>\n",
       "    </tr>\n",
       "    <tr>\n",
       "      <th>4</th>\n",
       "      <td>0</td>\n",
       "      <td>340266.072047</td>\n",
       "      <td>53</td>\n",
       "      <td>среднее</td>\n",
       "      <td>1</td>\n",
       "      <td>гражданский брак</td>\n",
       "      <td>1</td>\n",
       "      <td>F</td>\n",
       "      <td>пенсионер</td>\n",
       "      <td>0</td>\n",
       "      <td>158616.077870</td>\n",
       "      <td>сыграть свадьбу</td>\n",
       "    </tr>\n",
       "    <tr>\n",
       "      <th>5</th>\n",
       "      <td>0</td>\n",
       "      <td>-926.185831</td>\n",
       "      <td>27</td>\n",
       "      <td>высшее</td>\n",
       "      <td>0</td>\n",
       "      <td>гражданский брак</td>\n",
       "      <td>1</td>\n",
       "      <td>M</td>\n",
       "      <td>компаньон</td>\n",
       "      <td>0</td>\n",
       "      <td>255763.565419</td>\n",
       "      <td>покупка жилья</td>\n",
       "    </tr>\n",
       "    <tr>\n",
       "      <th>6</th>\n",
       "      <td>0</td>\n",
       "      <td>-2879.202052</td>\n",
       "      <td>43</td>\n",
       "      <td>высшее</td>\n",
       "      <td>0</td>\n",
       "      <td>женат / замужем</td>\n",
       "      <td>0</td>\n",
       "      <td>F</td>\n",
       "      <td>компаньон</td>\n",
       "      <td>0</td>\n",
       "      <td>240525.971920</td>\n",
       "      <td>операции с жильем</td>\n",
       "    </tr>\n",
       "    <tr>\n",
       "      <th>7</th>\n",
       "      <td>0</td>\n",
       "      <td>-152.779569</td>\n",
       "      <td>50</td>\n",
       "      <td>СРЕДНЕЕ</td>\n",
       "      <td>1</td>\n",
       "      <td>женат / замужем</td>\n",
       "      <td>0</td>\n",
       "      <td>M</td>\n",
       "      <td>сотрудник</td>\n",
       "      <td>0</td>\n",
       "      <td>135823.934197</td>\n",
       "      <td>образование</td>\n",
       "    </tr>\n",
       "    <tr>\n",
       "      <th>8</th>\n",
       "      <td>2</td>\n",
       "      <td>-6929.865299</td>\n",
       "      <td>35</td>\n",
       "      <td>ВЫСШЕЕ</td>\n",
       "      <td>0</td>\n",
       "      <td>гражданский брак</td>\n",
       "      <td>1</td>\n",
       "      <td>F</td>\n",
       "      <td>сотрудник</td>\n",
       "      <td>0</td>\n",
       "      <td>95856.832424</td>\n",
       "      <td>на проведение свадьбы</td>\n",
       "    </tr>\n",
       "    <tr>\n",
       "      <th>9</th>\n",
       "      <td>0</td>\n",
       "      <td>-2188.756445</td>\n",
       "      <td>41</td>\n",
       "      <td>среднее</td>\n",
       "      <td>1</td>\n",
       "      <td>женат / замужем</td>\n",
       "      <td>0</td>\n",
       "      <td>M</td>\n",
       "      <td>сотрудник</td>\n",
       "      <td>0</td>\n",
       "      <td>144425.938277</td>\n",
       "      <td>покупка жилья для семьи</td>\n",
       "    </tr>\n",
       "    <tr>\n",
       "      <th>10</th>\n",
       "      <td>2</td>\n",
       "      <td>-4171.483647</td>\n",
       "      <td>36</td>\n",
       "      <td>высшее</td>\n",
       "      <td>0</td>\n",
       "      <td>женат / замужем</td>\n",
       "      <td>0</td>\n",
       "      <td>M</td>\n",
       "      <td>компаньон</td>\n",
       "      <td>0</td>\n",
       "      <td>113943.491460</td>\n",
       "      <td>покупка недвижимости</td>\n",
       "    </tr>\n",
       "    <tr>\n",
       "      <th>11</th>\n",
       "      <td>0</td>\n",
       "      <td>-792.701887</td>\n",
       "      <td>40</td>\n",
       "      <td>среднее</td>\n",
       "      <td>1</td>\n",
       "      <td>женат / замужем</td>\n",
       "      <td>0</td>\n",
       "      <td>F</td>\n",
       "      <td>сотрудник</td>\n",
       "      <td>0</td>\n",
       "      <td>77069.234271</td>\n",
       "      <td>покупка коммерческой недвижимости</td>\n",
       "    </tr>\n",
       "    <tr>\n",
       "      <th>12</th>\n",
       "      <td>0</td>\n",
       "      <td>NaN</td>\n",
       "      <td>65</td>\n",
       "      <td>среднее</td>\n",
       "      <td>1</td>\n",
       "      <td>гражданский брак</td>\n",
       "      <td>1</td>\n",
       "      <td>M</td>\n",
       "      <td>пенсионер</td>\n",
       "      <td>0</td>\n",
       "      <td>NaN</td>\n",
       "      <td>сыграть свадьбу</td>\n",
       "    </tr>\n",
       "    <tr>\n",
       "      <th>13</th>\n",
       "      <td>0</td>\n",
       "      <td>-1846.641941</td>\n",
       "      <td>54</td>\n",
       "      <td>неоконченное высшее</td>\n",
       "      <td>2</td>\n",
       "      <td>женат / замужем</td>\n",
       "      <td>0</td>\n",
       "      <td>F</td>\n",
       "      <td>сотрудник</td>\n",
       "      <td>0</td>\n",
       "      <td>130458.228857</td>\n",
       "      <td>приобретение автомобиля</td>\n",
       "    </tr>\n",
       "    <tr>\n",
       "      <th>14</th>\n",
       "      <td>0</td>\n",
       "      <td>-1844.956182</td>\n",
       "      <td>56</td>\n",
       "      <td>высшее</td>\n",
       "      <td>0</td>\n",
       "      <td>гражданский брак</td>\n",
       "      <td>1</td>\n",
       "      <td>F</td>\n",
       "      <td>компаньон</td>\n",
       "      <td>1</td>\n",
       "      <td>165127.911772</td>\n",
       "      <td>покупка жилой недвижимости</td>\n",
       "    </tr>\n",
       "    <tr>\n",
       "      <th>15</th>\n",
       "      <td>1</td>\n",
       "      <td>-972.364419</td>\n",
       "      <td>26</td>\n",
       "      <td>среднее</td>\n",
       "      <td>1</td>\n",
       "      <td>женат / замужем</td>\n",
       "      <td>0</td>\n",
       "      <td>F</td>\n",
       "      <td>сотрудник</td>\n",
       "      <td>0</td>\n",
       "      <td>116820.904450</td>\n",
       "      <td>строительство собственной недвижимости</td>\n",
       "    </tr>\n",
       "    <tr>\n",
       "      <th>16</th>\n",
       "      <td>0</td>\n",
       "      <td>-1719.934226</td>\n",
       "      <td>35</td>\n",
       "      <td>среднее</td>\n",
       "      <td>1</td>\n",
       "      <td>женат / замужем</td>\n",
       "      <td>0</td>\n",
       "      <td>F</td>\n",
       "      <td>сотрудник</td>\n",
       "      <td>0</td>\n",
       "      <td>289202.704229</td>\n",
       "      <td>недвижимость</td>\n",
       "    </tr>\n",
       "    <tr>\n",
       "      <th>17</th>\n",
       "      <td>0</td>\n",
       "      <td>-2369.999720</td>\n",
       "      <td>33</td>\n",
       "      <td>высшее</td>\n",
       "      <td>0</td>\n",
       "      <td>гражданский брак</td>\n",
       "      <td>1</td>\n",
       "      <td>M</td>\n",
       "      <td>сотрудник</td>\n",
       "      <td>0</td>\n",
       "      <td>90410.586745</td>\n",
       "      <td>строительство недвижимости</td>\n",
       "    </tr>\n",
       "    <tr>\n",
       "      <th>18</th>\n",
       "      <td>0</td>\n",
       "      <td>400281.136913</td>\n",
       "      <td>53</td>\n",
       "      <td>среднее</td>\n",
       "      <td>1</td>\n",
       "      <td>вдовец / вдова</td>\n",
       "      <td>2</td>\n",
       "      <td>F</td>\n",
       "      <td>пенсионер</td>\n",
       "      <td>0</td>\n",
       "      <td>56823.777243</td>\n",
       "      <td>на покупку подержанного автомобиля</td>\n",
       "    </tr>\n",
       "    <tr>\n",
       "      <th>19</th>\n",
       "      <td>0</td>\n",
       "      <td>-10038.818549</td>\n",
       "      <td>48</td>\n",
       "      <td>СРЕДНЕЕ</td>\n",
       "      <td>1</td>\n",
       "      <td>в разводе</td>\n",
       "      <td>3</td>\n",
       "      <td>F</td>\n",
       "      <td>сотрудник</td>\n",
       "      <td>0</td>\n",
       "      <td>242831.107982</td>\n",
       "      <td>на покупку своего автомобиля</td>\n",
       "    </tr>\n",
       "  </tbody>\n",
       "</table>\n",
       "</div>"
      ],
      "text/plain": [
       "    children  days_employed  dob_years            education  education_id  \\\n",
       "0          1   -8437.673028         42               высшее             0   \n",
       "1          1   -4024.803754         36              среднее             1   \n",
       "2          0   -5623.422610         33              Среднее             1   \n",
       "3          3   -4124.747207         32              среднее             1   \n",
       "4          0  340266.072047         53              среднее             1   \n",
       "5          0    -926.185831         27               высшее             0   \n",
       "6          0   -2879.202052         43               высшее             0   \n",
       "7          0    -152.779569         50              СРЕДНЕЕ             1   \n",
       "8          2   -6929.865299         35               ВЫСШЕЕ             0   \n",
       "9          0   -2188.756445         41              среднее             1   \n",
       "10         2   -4171.483647         36               высшее             0   \n",
       "11         0    -792.701887         40              среднее             1   \n",
       "12         0            NaN         65              среднее             1   \n",
       "13         0   -1846.641941         54  неоконченное высшее             2   \n",
       "14         0   -1844.956182         56               высшее             0   \n",
       "15         1    -972.364419         26              среднее             1   \n",
       "16         0   -1719.934226         35              среднее             1   \n",
       "17         0   -2369.999720         33               высшее             0   \n",
       "18         0  400281.136913         53              среднее             1   \n",
       "19         0  -10038.818549         48              СРЕДНЕЕ             1   \n",
       "\n",
       "       family_status  family_status_id gender income_type  debt  \\\n",
       "0    женат / замужем                 0      F   сотрудник     0   \n",
       "1    женат / замужем                 0      F   сотрудник     0   \n",
       "2    женат / замужем                 0      M   сотрудник     0   \n",
       "3    женат / замужем                 0      M   сотрудник     0   \n",
       "4   гражданский брак                 1      F   пенсионер     0   \n",
       "5   гражданский брак                 1      M   компаньон     0   \n",
       "6    женат / замужем                 0      F   компаньон     0   \n",
       "7    женат / замужем                 0      M   сотрудник     0   \n",
       "8   гражданский брак                 1      F   сотрудник     0   \n",
       "9    женат / замужем                 0      M   сотрудник     0   \n",
       "10   женат / замужем                 0      M   компаньон     0   \n",
       "11   женат / замужем                 0      F   сотрудник     0   \n",
       "12  гражданский брак                 1      M   пенсионер     0   \n",
       "13   женат / замужем                 0      F   сотрудник     0   \n",
       "14  гражданский брак                 1      F   компаньон     1   \n",
       "15   женат / замужем                 0      F   сотрудник     0   \n",
       "16   женат / замужем                 0      F   сотрудник     0   \n",
       "17  гражданский брак                 1      M   сотрудник     0   \n",
       "18    вдовец / вдова                 2      F   пенсионер     0   \n",
       "19         в разводе                 3      F   сотрудник     0   \n",
       "\n",
       "     total_income                                 purpose  \n",
       "0   253875.639453                           покупка жилья  \n",
       "1   112080.014102                 приобретение автомобиля  \n",
       "2   145885.952297                           покупка жилья  \n",
       "3   267628.550329              дополнительное образование  \n",
       "4   158616.077870                         сыграть свадьбу  \n",
       "5   255763.565419                           покупка жилья  \n",
       "6   240525.971920                       операции с жильем  \n",
       "7   135823.934197                             образование  \n",
       "8    95856.832424                   на проведение свадьбы  \n",
       "9   144425.938277                 покупка жилья для семьи  \n",
       "10  113943.491460                    покупка недвижимости  \n",
       "11   77069.234271       покупка коммерческой недвижимости  \n",
       "12            NaN                         сыграть свадьбу  \n",
       "13  130458.228857                 приобретение автомобиля  \n",
       "14  165127.911772              покупка жилой недвижимости  \n",
       "15  116820.904450  строительство собственной недвижимости  \n",
       "16  289202.704229                            недвижимость  \n",
       "17   90410.586745              строительство недвижимости  \n",
       "18   56823.777243      на покупку подержанного автомобиля  \n",
       "19  242831.107982            на покупку своего автомобиля  "
      ]
     },
     "execution_count": 53,
     "metadata": {},
     "output_type": "execute_result"
    }
   ],
   "source": [
    "data.head(20)"
   ]
  },
  {
   "cell_type": "markdown",
   "id": "b40243d9",
   "metadata": {
    "deletable": false,
    "editable": false,
    "id": "1c12e233"
   },
   "source": [
    "**Задание 3. Выведите основную информацию о датафрейме с помощью метода `info()`.**"
   ]
  },
  {
   "cell_type": "code",
   "execution_count": 54,
   "id": "caf315f7",
   "metadata": {
    "deletable": false,
    "id": "2b757bca",
    "outputId": "15376089-8dad-46c9-b520-c05248d43158"
   },
   "outputs": [
    {
     "name": "stdout",
     "output_type": "stream",
     "text": [
      "<class 'pandas.core.frame.DataFrame'>\n",
      "RangeIndex: 21525 entries, 0 to 21524\n",
      "Data columns (total 12 columns):\n",
      " #   Column            Non-Null Count  Dtype  \n",
      "---  ------            --------------  -----  \n",
      " 0   children          21525 non-null  int64  \n",
      " 1   days_employed     19351 non-null  float64\n",
      " 2   dob_years         21525 non-null  int64  \n",
      " 3   education         21525 non-null  object \n",
      " 4   education_id      21525 non-null  int64  \n",
      " 5   family_status     21525 non-null  object \n",
      " 6   family_status_id  21525 non-null  int64  \n",
      " 7   gender            21525 non-null  object \n",
      " 8   income_type       21525 non-null  object \n",
      " 9   debt              21525 non-null  int64  \n",
      " 10  total_income      19351 non-null  float64\n",
      " 11  purpose           21525 non-null  object \n",
      "dtypes: float64(2), int64(5), object(5)\n",
      "memory usage: 2.0+ MB\n"
     ]
    }
   ],
   "source": [
    "data.info()"
   ]
  },
  {
   "cell_type": "markdown",
   "id": "b4345245",
   "metadata": {
    "deletable": false,
    "editable": false,
    "id": "333ec665"
   },
   "source": [
    "## Предобработка данных"
   ]
  },
  {
   "cell_type": "markdown",
   "id": "87f76c69",
   "metadata": {
    "deletable": false,
    "editable": false,
    "id": "02d92d53"
   },
   "source": [
    "### Удаление пропусков"
   ]
  },
  {
   "cell_type": "markdown",
   "id": "db5d6b9c",
   "metadata": {
    "deletable": false,
    "editable": false,
    "id": "cd84967c"
   },
   "source": [
    "**Задание 4. Выведите количество пропущенных значений для каждого столбца. Используйте комбинацию двух методов.**"
   ]
  },
  {
   "cell_type": "code",
   "execution_count": 55,
   "id": "7f28d626",
   "metadata": {
    "deletable": false,
    "id": "7f9b2309",
    "outputId": "81f4d817-781c-465c-ed15-91ce4446810d"
   },
   "outputs": [
    {
     "data": {
      "text/plain": [
       "children               0\n",
       "days_employed       2174\n",
       "dob_years              0\n",
       "education              0\n",
       "education_id           0\n",
       "family_status          0\n",
       "family_status_id       0\n",
       "gender                 0\n",
       "income_type            0\n",
       "debt                   0\n",
       "total_income        2174\n",
       "purpose                0\n",
       "dtype: int64"
      ]
     },
     "execution_count": 55,
     "metadata": {},
     "output_type": "execute_result"
    }
   ],
   "source": [
    "data.isna().sum()"
   ]
  },
  {
   "cell_type": "markdown",
   "id": "5cd95925",
   "metadata": {
    "deletable": false,
    "editable": false,
    "id": "db86e27b"
   },
   "source": [
    "**Задание 5. В двух столбцах есть пропущенные значения. Один из них — `days_employed`. Пропуски в этом столбце вы обработаете на следующем этапе. Другой столбец с пропущенными значениями — `total_income` — хранит данные о доходах. На сумму дохода сильнее всего влияет тип занятости, поэтому заполнить пропуски в этом столбце нужно медианным значением по каждому типу из столбца `income_type`. Например, у человека с типом занятости `сотрудник` пропуск в столбце `total_income` должен быть заполнен медианным доходом среди всех записей с тем же типом.**"
   ]
  },
  {
   "cell_type": "code",
   "execution_count": 56,
   "id": "7d19d49a",
   "metadata": {
    "deletable": false,
    "id": "42006a93"
   },
   "outputs": [],
   "source": [
    "for t in data['income_type'].unique():\n",
    "    data.loc[(data['income_type'] == t) & (data['total_income'].isna()), 'total_income'] = \\\n",
    "    data.loc[(data['income_type'] == t), 'total_income'].median()"
   ]
  },
  {
   "cell_type": "markdown",
   "id": "903ccc03",
   "metadata": {
    "deletable": false,
    "editable": false,
    "id": "89da5ece"
   },
   "source": [
    "### Обработка аномальных значений"
   ]
  },
  {
   "cell_type": "markdown",
   "id": "efa3ff4b",
   "metadata": {
    "deletable": false,
    "editable": false,
    "id": "57964554"
   },
   "source": [
    "**Задание 6. В данных могут встречаться артефакты (аномалии) — значения, которые не отражают действительность и появились по какой-то ошибке. таким артефактом будет отрицательное количество дней трудового стажа в столбце `days_employed`. Для реальных данных это нормально. Обработайте значения в этом столбце: замените все отрицательные значения положительными с помощью метода `abs()`.**"
   ]
  },
  {
   "cell_type": "code",
   "execution_count": 57,
   "id": "d0188ed8",
   "metadata": {
    "deletable": false,
    "id": "f6f055bf"
   },
   "outputs": [],
   "source": [
    "data['days_employed'] = data['days_employed'].abs()"
   ]
  },
  {
   "cell_type": "markdown",
   "id": "8aba3c08",
   "metadata": {
    "deletable": false,
    "editable": false,
    "id": "6107dd2f"
   },
   "source": [
    "**Задание 7. Для каждого типа занятости выведите медианное значение трудового стажа `days_employed` в днях.**"
   ]
  },
  {
   "cell_type": "code",
   "execution_count": 58,
   "id": "164d79c8",
   "metadata": {
    "deletable": false,
    "id": "85a5faf6",
    "outputId": "801ef80e-522b-4668-f34e-565af7432bcf"
   },
   "outputs": [
    {
     "data": {
      "text/plain": [
       "income_type\n",
       "безработный        366413.652744\n",
       "в декрете            3296.759962\n",
       "госслужащий          2689.368353\n",
       "компаньон            1547.382223\n",
       "пенсионер          365213.306266\n",
       "предприниматель       520.848083\n",
       "сотрудник            1574.202821\n",
       "студент               578.751554\n",
       "Name: days_employed, dtype: float64"
      ]
     },
     "execution_count": 58,
     "metadata": {},
     "output_type": "execute_result"
    }
   ],
   "source": [
    "data.groupby('income_type')['days_employed'].agg('median')"
   ]
  },
  {
   "cell_type": "markdown",
   "id": "e91f4d66",
   "metadata": {
    "deletable": false,
    "editable": false,
    "id": "38d1a030"
   },
   "source": [
    "У двух типов (безработные и пенсионеры) получатся аномально большие значения. Исправить такие значения сложно, поэтому оставьте их как есть. Тем более этот столбец не понадобится вам для исследования."
   ]
  },
  {
   "cell_type": "markdown",
   "id": "f1ee6bab",
   "metadata": {
    "deletable": false,
    "editable": false,
    "id": "d8a9f147"
   },
   "source": [
    "**Задание 8. Выведите перечень уникальных значений столбца `children`.**"
   ]
  },
  {
   "cell_type": "code",
   "execution_count": 59,
   "id": "2b31b3e9",
   "metadata": {
    "deletable": false,
    "id": "ef5056eb",
    "outputId": "6975b15c-7f95-4697-d16d-a0c79b657b03"
   },
   "outputs": [
    {
     "data": {
      "text/plain": [
       "array([ 1,  0,  3,  2, -1,  4, 20,  5])"
      ]
     },
     "execution_count": 59,
     "metadata": {},
     "output_type": "execute_result"
    }
   ],
   "source": [
    "data['children'].unique()"
   ]
  },
  {
   "cell_type": "markdown",
   "id": "98785566",
   "metadata": {
    "deletable": false,
    "editable": false,
    "id": "40b9ebf2"
   },
   "source": [
    "**Задание 9. В столбце `children` есть два аномальных значения. Удалите строки, в которых встречаются такие аномальные значения из датафрейма `data`.**"
   ]
  },
  {
   "cell_type": "code",
   "execution_count": 60,
   "id": "0ef01738",
   "metadata": {
    "deletable": false,
    "id": "3ff9801d"
   },
   "outputs": [],
   "source": [
    "data = data[(data['children'] != -1) & (data['children'] != 20)]"
   ]
  },
  {
   "cell_type": "markdown",
   "id": "db1355e0",
   "metadata": {
    "deletable": false,
    "editable": false,
    "id": "bbc4d0ce"
   },
   "source": [
    "**Задание 10. Ещё раз выведите перечень уникальных значений столбца `children`, чтобы убедиться, что артефакты удалены.**"
   ]
  },
  {
   "cell_type": "code",
   "execution_count": 61,
   "id": "e1ffe0bb",
   "metadata": {
    "deletable": false,
    "id": "ad4fa8b7",
    "outputId": "b2097101-d49d-44d9-901b-32a65c9463d1"
   },
   "outputs": [
    {
     "data": {
      "text/plain": [
       "array([1, 0, 3, 2, 4, 5])"
      ]
     },
     "execution_count": 61,
     "metadata": {},
     "output_type": "execute_result"
    }
   ],
   "source": [
    "data['children'].unique()"
   ]
  },
  {
   "cell_type": "markdown",
   "id": "b5250e0d",
   "metadata": {
    "deletable": false,
    "editable": false,
    "id": "75440b63"
   },
   "source": [
    "### Удаление пропусков (продолжение)"
   ]
  },
  {
   "cell_type": "markdown",
   "id": "66b0c029",
   "metadata": {
    "deletable": false,
    "editable": false,
    "id": "f4ea573f"
   },
   "source": [
    "**Задание 11. Заполните пропуски в столбце `days_employed` медианными значениями по каждого типа занятости `income_type`.**"
   ]
  },
  {
   "cell_type": "code",
   "execution_count": 62,
   "id": "68cd1fec",
   "metadata": {
    "deletable": false,
    "id": "af6b1a7e"
   },
   "outputs": [],
   "source": [
    "for t in data['income_type'].unique():\n",
    "    data.loc[(data['income_type'] == t) & (data['days_employed'].isna()), 'days_employed'] = \\\n",
    "    data.loc[(data['income_type'] == t), 'days_employed'].median()"
   ]
  },
  {
   "cell_type": "markdown",
   "id": "8d5a70aa",
   "metadata": {
    "deletable": false,
    "editable": false,
    "id": "2753f40d"
   },
   "source": [
    "**Задание 12. Убедитесь, что все пропуски заполнены. Проверьте себя и ещё раз выведите количество пропущенных значений для каждого столбца с помощью двух методов.**"
   ]
  },
  {
   "cell_type": "code",
   "execution_count": 63,
   "id": "38c13734",
   "metadata": {
    "deletable": false,
    "id": "55f78bc2",
    "outputId": "8da1e4e1-358e-4e87-98c9-f261bce0a7b2"
   },
   "outputs": [
    {
     "data": {
      "text/plain": [
       "children            0\n",
       "days_employed       0\n",
       "dob_years           0\n",
       "education           0\n",
       "education_id        0\n",
       "family_status       0\n",
       "family_status_id    0\n",
       "gender              0\n",
       "income_type         0\n",
       "debt                0\n",
       "total_income        0\n",
       "purpose             0\n",
       "dtype: int64"
      ]
     },
     "execution_count": 63,
     "metadata": {},
     "output_type": "execute_result"
    }
   ],
   "source": [
    "data.isna().sum()"
   ]
  },
  {
   "cell_type": "markdown",
   "id": "b8dc43df",
   "metadata": {
    "deletable": false,
    "editable": false,
    "id": "ddc81e43"
   },
   "source": [
    "### Изменение типов данных"
   ]
  },
  {
   "cell_type": "markdown",
   "id": "10680ffd",
   "metadata": {
    "deletable": false,
    "editable": false,
    "id": "42d19d24"
   },
   "source": [
    "**Задание 13. Замените вещественный тип данных в столбце `total_income` на целочисленный с помощью метода `astype()`.**"
   ]
  },
  {
   "cell_type": "code",
   "execution_count": 64,
   "id": "db583228",
   "metadata": {
    "deletable": false,
    "id": "920b65ad"
   },
   "outputs": [],
   "source": [
    "data['total_income'] = data['total_income'].astype(int)"
   ]
  },
  {
   "cell_type": "markdown",
   "id": "f9c11582",
   "metadata": {
    "deletable": false,
    "editable": false,
    "id": "80c420ba"
   },
   "source": [
    "### Обработка дубликатов"
   ]
  },
  {
   "cell_type": "markdown",
   "id": "8554ecdb",
   "metadata": {
    "deletable": false,
    "editable": false
   },
   "source": [
    "**Задание 14. Обработайте неявные дубликаты в столбце `education`. В этом столбце есть одни и те же значения, но записанные по-разному: с использованием заглавных и строчных букв. Приведите их к нижнему регистру. Проверьте остальные столбцы.**"
   ]
  },
  {
   "cell_type": "code",
   "execution_count": 65,
   "id": "cedd8292",
   "metadata": {
    "deletable": false
   },
   "outputs": [],
   "source": [
    "data['education'] = data['education'].str.lower()"
   ]
  },
  {
   "cell_type": "markdown",
   "id": "c21ae183",
   "metadata": {
    "deletable": false,
    "editable": false,
    "id": "dc587695"
   },
   "source": [
    "**Задание 15. Выведите на экран количество строк-дубликатов в данных. Если такие строки присутствуют, удалите их.**"
   ]
  },
  {
   "cell_type": "code",
   "execution_count": 66,
   "id": "42d942f6",
   "metadata": {
    "deletable": false,
    "id": "3ee445e4",
    "outputId": "9684deba-1934-42d1-99e1-cda61740f822"
   },
   "outputs": [
    {
     "data": {
      "text/plain": [
       "71"
      ]
     },
     "execution_count": 66,
     "metadata": {},
     "output_type": "execute_result"
    }
   ],
   "source": [
    "data.duplicated().sum()"
   ]
  },
  {
   "cell_type": "code",
   "execution_count": 67,
   "id": "8527eec6",
   "metadata": {
    "deletable": false,
    "id": "8575fe05"
   },
   "outputs": [],
   "source": [
    "data = data.drop_duplicates()"
   ]
  },
  {
   "cell_type": "markdown",
   "id": "67d7c07d",
   "metadata": {
    "deletable": false,
    "editable": false,
    "id": "9904cf55"
   },
   "source": [
    "### Категоризация данных"
   ]
  },
  {
   "cell_type": "markdown",
   "id": "82328c05",
   "metadata": {
    "deletable": false,
    "editable": false,
    "id": "72fcc8a2"
   },
   "source": [
    "**Задание 16. На основании диапазонов, указанных ниже, создайте в датафрейме `data` столбец `total_income_category` с категориями:**\n",
    "\n",
    "- 0–30000 — `'E'`;\n",
    "- 30001–50000 — `'D'`;\n",
    "- 50001–200000 — `'C'`;\n",
    "- 200001–1000000 — `'B'`;\n",
    "- 1000001 и выше — `'A'`.\n",
    "\n",
    "\n",
    "**Например, кредитополучателю с доходом 25000 нужно назначить категорию `'E'`, а клиенту, получающему 235000, — `'B'`. Используйте собственную функцию с именем `categorize_income()` и метод `apply()`.**"
   ]
  },
  {
   "cell_type": "code",
   "execution_count": 68,
   "id": "9318a38a",
   "metadata": {
    "deletable": false,
    "id": "e1771346"
   },
   "outputs": [],
   "source": [
    "def categorize_income(income):\n",
    "    try:\n",
    "        if 0 <= income <= 30000:\n",
    "            return 'E'\n",
    "        elif 30001 <= income <= 50000:\n",
    "            return 'D'\n",
    "        elif 50001 <= income <= 200000:\n",
    "            return 'C'\n",
    "        elif 200001 <= income <= 1000000:\n",
    "            return 'B'\n",
    "        elif income >= 1000001:\n",
    "            return 'A'\n",
    "    except:\n",
    "        pass"
   ]
  },
  {
   "cell_type": "code",
   "execution_count": 69,
   "id": "acab6855",
   "metadata": {
    "deletable": false,
    "id": "d5f3586d"
   },
   "outputs": [],
   "source": [
    "data['total_income_category'] = data['total_income'].apply(categorize_income)"
   ]
  },
  {
   "cell_type": "markdown",
   "id": "b2bb4be4",
   "metadata": {
    "deletable": false,
    "editable": false,
    "id": "dde49b5c"
   },
   "source": [
    "**Задание 17. Выведите на экран перечень уникальных целей взятия кредита из столбца `purpose`.**"
   ]
  },
  {
   "cell_type": "code",
   "execution_count": 70,
   "id": "be9dea4f",
   "metadata": {
    "deletable": false,
    "id": "f67ce9b3",
    "outputId": "673c12d9-7d7e-4ae0-9812-c622c89dd244"
   },
   "outputs": [
    {
     "data": {
      "text/plain": [
       "array(['покупка жилья', 'приобретение автомобиля',\n",
       "       'дополнительное образование', 'сыграть свадьбу',\n",
       "       'операции с жильем', 'образование', 'на проведение свадьбы',\n",
       "       'покупка жилья для семьи', 'покупка недвижимости',\n",
       "       'покупка коммерческой недвижимости', 'покупка жилой недвижимости',\n",
       "       'строительство собственной недвижимости', 'недвижимость',\n",
       "       'строительство недвижимости', 'на покупку подержанного автомобиля',\n",
       "       'на покупку своего автомобиля',\n",
       "       'операции с коммерческой недвижимостью',\n",
       "       'строительство жилой недвижимости', 'жилье',\n",
       "       'операции со своей недвижимостью', 'автомобили',\n",
       "       'заняться образованием', 'сделка с подержанным автомобилем',\n",
       "       'получение образования', 'автомобиль', 'свадьба',\n",
       "       'получение дополнительного образования', 'покупка своего жилья',\n",
       "       'операции с недвижимостью', 'получение высшего образования',\n",
       "       'свой автомобиль', 'сделка с автомобилем',\n",
       "       'профильное образование', 'высшее образование',\n",
       "       'покупка жилья для сдачи', 'на покупку автомобиля', 'ремонт жилью',\n",
       "       'заняться высшим образованием'], dtype=object)"
      ]
     },
     "execution_count": 70,
     "metadata": {},
     "output_type": "execute_result"
    }
   ],
   "source": [
    "data['purpose'].unique()"
   ]
  },
  {
   "cell_type": "markdown",
   "id": "ceb1ff0d",
   "metadata": {
    "deletable": false,
    "editable": false,
    "id": "85d0aef0"
   },
   "source": [
    "**Задание 18. Создайте функцию, которая на основании данных из столбца `purpose` сформирует новый столбец `purpose_category`, в который войдут следующие категории:**\n",
    "\n",
    "- `'операции с автомобилем'`,\n",
    "- `'операции с недвижимостью'`,\n",
    "- `'проведение свадьбы'`,\n",
    "- `'получение образования'`.\n",
    "\n",
    "**Например, если в столбце `purpose` находится подстрока `'на покупку автомобиля'`, то в столбце `purpose_category` должна появиться строка `'операции с автомобилем'`.**\n",
    "\n",
    "**Используйте собственную функцию с именем `categorize_purpose()` и метод `apply()`. Изучите данные в столбце `purpose` и определите, какие подстроки помогут вам правильно определить категорию.**"
   ]
  },
  {
   "cell_type": "code",
   "execution_count": 71,
   "id": "d6740b88",
   "metadata": {
    "deletable": false,
    "id": "e149fab4"
   },
   "outputs": [],
   "source": [
    "def categorize_purpose(row):\n",
    "    try:\n",
    "        if 'автом' in row:\n",
    "            return 'операции с автомобилем'\n",
    "        elif 'жил' in row or 'недвиж' in row:\n",
    "            return 'операции с недвижимостью'\n",
    "        elif 'свад' in row:\n",
    "            return 'проведение свадьбы'\n",
    "        elif 'образов' in row:\n",
    "            return 'получение образования'\n",
    "    except:\n",
    "        return 'нет категории'"
   ]
  },
  {
   "cell_type": "code",
   "execution_count": 72,
   "id": "ab0203a0",
   "metadata": {
    "deletable": false,
    "id": "bf36e69b"
   },
   "outputs": [],
   "source": [
    "data['purpose_category'] = data['purpose'].apply(categorize_purpose)"
   ]
  },
  {
   "cell_type": "markdown",
   "id": "5448e940",
   "metadata": {
    "deletable": false,
    "editable": false,
    "id": "09b242bf"
   },
   "source": [
    "### Шаг 3. Исследуйте данные и ответьте на вопросы"
   ]
  },
  {
   "cell_type": "markdown",
   "id": "2907d0a8",
   "metadata": {
    "deletable": false,
    "editable": false,
    "id": "c5d66278"
   },
   "source": [
    "#### 3.1 Есть ли зависимость между количеством детей и возвратом кредита в срок?"
   ]
  },
  {
   "cell_type": "code",
   "execution_count": 73,
   "id": "71c04c3f",
   "metadata": {
    "deletable": false,
    "id": "2cacfc4a"
   },
   "outputs": [
    {
     "name": "stdout",
     "output_type": "stream",
     "text": [
      "          cases  debt_sum    result\n",
      "children                           \n",
      "4            41         4  9.756098\n",
      "2          2052       194  9.454191\n",
      "1          4808       444  9.234609\n",
      "3           330        27  8.181818\n",
      "0         14091      1063  7.543822\n",
      "5             9         0  0.000000\n"
     ]
    }
   ],
   "source": [
    "# Ваш код будет здесь. Вы можете создавать новые ячейки.\n",
    "pivot_table = pd.DataFrame()\n",
    "pivot_table['cases'] = data.groupby('children')['debt'].count()\n",
    "pivot_table['debt_sum'] = data.groupby('children')['debt'].sum()\n",
    "pivot_table['result'] = pivot_table['debt_sum']/pivot_table['cases']*100\n",
    "print (pivot_table.sort_values(by='result', ascending = False))"
   ]
  },
  {
   "cell_type": "markdown",
   "id": "b68a8dee",
   "metadata": {
    "deletable": false,
    "id": "3a6b99ec"
   },
   "source": [
    "**Вывод: Исходя из проведенных расчетов, наибольшая доля просроченных платежей приходится на Заемщиков, у которых четыре ребенка, а наименьшая - у которых детей нет. Также случаи наличия просрочек по обязательствам встречаются наиболее часто у Заемщиков с одним и двумя детьми, при этом с тремя детьми данные случаи встречаются реже. Таким образом, можно сделать вывод, что риск возникновнения просроченных платежей по кредитам у Заемщиков без детей ниже, чем у Заемщиков с детьми** "
   ]
  },
  {
   "cell_type": "markdown",
   "id": "ac032c71",
   "metadata": {
    "deletable": false,
    "editable": false,
    "id": "97be82ca"
   },
   "source": [
    "#### 3.2 Есть ли зависимость между семейным положением и возвратом кредита в срок?"
   ]
  },
  {
   "cell_type": "code",
   "execution_count": 74,
   "id": "463e2f42",
   "metadata": {
    "deletable": false,
    "id": "dc3f7ee8"
   },
   "outputs": [
    {
     "name": "stdout",
     "output_type": "stream",
     "text": [
      "                       cases  debt_sum    result\n",
      "family_status                                   \n",
      "Не женат / не замужем   2796       273  9.763948\n",
      "гражданский брак        4134       385  9.313014\n",
      "женат / замужем        12261       927  7.560558\n",
      "в разводе               1189        84  7.064760\n",
      "вдовец / вдова           951        63  6.624606\n"
     ]
    }
   ],
   "source": [
    "# Ваш код будет здесь. Вы можете создавать новые ячейки.\n",
    "pivot_table = pd.DataFrame()\n",
    "pivot_table['cases'] = data.groupby('family_status')['debt'].count()\n",
    "pivot_table['debt_sum'] = data.groupby('family_status')['debt'].sum()\n",
    "pivot_table['result'] = pivot_table['debt_sum']/pivot_table['cases']*100\n",
    "print (pivot_table.sort_values(by='result', ascending = False))"
   ]
  },
  {
   "cell_type": "markdown",
   "id": "3ec9208c",
   "metadata": {
    "deletable": false,
    "id": "1cef7837"
   },
   "source": [
    "**Вывод: Результаты показывают, что Заемщики, которые находятся не в браке/гражданском браке, имеют больший процент случаев наличия просроченных платежей по кредитам. Реже случаи возникновения просрочек встречаются у Заемщиков, находящихся в браке, либо в разводе, а наименьший риск вероятности возникновения просрочек приходится на вдовцов/вдов** "
   ]
  },
  {
   "cell_type": "markdown",
   "id": "7ed9946a",
   "metadata": {
    "deletable": false,
    "editable": false,
    "id": "1e8b2fca"
   },
   "source": [
    "#### 3.3 Есть ли зависимость между уровнем дохода и возвратом кредита в срок?"
   ]
  },
  {
   "cell_type": "code",
   "execution_count": 75,
   "id": "8e0b3496",
   "metadata": {
    "deletable": false,
    "id": "cd7e3720"
   },
   "outputs": [
    {
     "name": "stdout",
     "output_type": "stream",
     "text": [
      "                       cases  debt_sum    result\n",
      "total_income_category                           \n",
      "E                         22         2  9.090909\n",
      "C                      15921      1353  8.498210\n",
      "A                         25         2  8.000000\n",
      "B                       5014       354  7.060231\n",
      "D                        349        21  6.017192\n"
     ]
    }
   ],
   "source": [
    "# Ваш код будет здесь. Вы можете создавать новые ячейки.\n",
    "pivot_table = pd.DataFrame()\n",
    "pivot_table['cases'] = data.groupby('total_income_category')['debt'].count()\n",
    "pivot_table['debt_sum']= data.groupby('total_income_category')['debt'].sum()\n",
    "pivot_table['result'] = pivot_table['debt_sum']/pivot_table['cases']*100\n",
    "print (pivot_table.sort_values(by='result', ascending = False))"
   ]
  },
  {
   "cell_type": "markdown",
   "id": "3156458a",
   "metadata": {
    "deletable": false,
    "id": "e8593def"
   },
   "source": [
    "**Вывод: Согласно полученным данным, наибольшая доля возникновения просроченных платежей встречается у Заемщиков с наиболее низким уровнем дохода, при этом вероятность возникновения просроченных платежей у Заемщиков с доходами выше находится на сопоставимом уровне, таким образом, можно предположить, что зависимость между уровнем дохода и возвратом кредита в срок отсутствует** "
   ]
  },
  {
   "cell_type": "markdown",
   "id": "636be1a6",
   "metadata": {
    "deletable": false,
    "editable": false,
    "id": "99ecbd1f"
   },
   "source": [
    "#### 3.4 Как разные цели кредита влияют на его возврат в срок?"
   ]
  },
  {
   "cell_type": "code",
   "execution_count": 76,
   "id": "56f4e95a",
   "metadata": {
    "deletable": false,
    "id": "2b687290"
   },
   "outputs": [
    {
     "name": "stdout",
     "output_type": "stream",
     "text": [
      "                          cases  debt_sum    result\n",
      "purpose_category                                   \n",
      "операции с автомобилем     4279       400  9.347978\n",
      "получение образования      3988       369  9.252758\n",
      "проведение свадьбы         2313       183  7.911803\n",
      "операции с недвижимостью  10751       780  7.255139\n"
     ]
    }
   ],
   "source": [
    "# Ваш код будет здесь. Вы можете создавать новые ячейки.\n",
    "pivot_table = pd.DataFrame()\n",
    "pivot_table['cases'] = data.groupby('purpose_category')['debt'].count()\n",
    "pivot_table['debt_sum'] = data.groupby('purpose_category')['debt'].sum()\n",
    "pivot_table['result'] = pivot_table['debt_sum']/pivot_table['cases']*100\n",
    "print (pivot_table.sort_values(by='result', ascending = False))"
   ]
  },
  {
   "cell_type": "markdown",
   "id": "2c395c5b",
   "metadata": {
    "deletable": false,
    "id": "b4bb2ce6"
   },
   "source": [
    "**Вывод: Исходя из полученных данных, мы видим, что наиболее часто просрочки встречаются по авто-кредитам и кредитам, связанными с образованием. Наименьшая доля просрочек приходится на кредиты, связанные с недвижимостью, также и по кредитам на свадьбу случаи возникновения просрочек встречаются реже** "
   ]
  },
  {
   "cell_type": "markdown",
   "id": "1ab20144",
   "metadata": {
    "deletable": false,
    "editable": false,
    "id": "09c3ac4c"
   },
   "source": [
    "#### 3.5 Приведите возможные причины появления пропусков в исходных данных."
   ]
  },
  {
   "cell_type": "markdown",
   "id": "a79b625e",
   "metadata": {
    "deletable": false,
    "id": "9da2ceda"
   },
   "source": [
    "*Ответ: Основными возможными причинами появления пропусков в данных являются технические причины, связанные с некорректной выгрузкой или прочтением данных, копировании данных и пр., а также пропуски могут быть результатом человеческого фактора, а именно изначально данные были заполнены некорректно по какой-либо причине* "
   ]
  },
  {
   "cell_type": "markdown",
   "id": "e278a6bd",
   "metadata": {
    "deletable": false,
    "editable": false,
    "id": "7b0487d6"
   },
   "source": [
    "#### 3.6 Объясните, почему заполнить пропуски медианным значением — лучшее решение для количественных переменных."
   ]
  },
  {
   "cell_type": "markdown",
   "id": "d546982f",
   "metadata": {
    "deletable": false,
    "id": "7ecf2b8e"
   },
   "source": [
    "*Ответ: поскольку средне арифметическое не учитывает наличие значений, которые имеют существенное отклонение от среднего, т.о. может существенно искажать всю картину, медианное значение - оценивает среднее значение в центре выборки* "
   ]
  },
  {
   "cell_type": "markdown",
   "id": "8839763b",
   "metadata": {
    "deletable": false,
    "editable": false,
    "id": "6db5255a"
   },
   "source": [
    "### Шаг 4: общий вывод."
   ]
  },
  {
   "cell_type": "markdown",
   "id": "fcd33349",
   "metadata": {
    "deletable": false,
    "id": "bad65432"
   },
   "source": [
    "В рамках проведенного анализа была проведена оценка влияния следующих факторов на возникновение просроченных платежей по кредитам:  семейное положение Заемщика, уровень дохода Заемщика, количество детей и цели кредитования. При оценке каждого фактора Заемщики были поделены на категории, в рамках которых был расчитан средний процент возникновения просроченных платежей у рассматриваемой выборки.\n",
    "Согласно проведенному анализу, можно сделать следующие выводы:\n",
    "1) Заемщики, которые находятся не в браке/гражданском браке, имеют больший процент случаев наличия просроченных платежей по кредитам;\n",
    "\n",
    "2) Вероятность возникновения просроченных платежей у Заемщиков не зависит от их уровня дохода;\n",
    "\n",
    "3) Риск возникновнения просроченных платежей по кредитам у Заемщиков без детей ниже, чем у Заемщиков с детьми;\n",
    "\n",
    "4) Наиболее часто просрочки встречаются по авто-кредитам и кредитам, связанными с образованием, наименьшая доля просрочек приходится на кредиты, связанные с недвижимостью.\n",
    "\n",
    "Таким образом, при оценке платежеспособности потенциального Заемщика рекомендуется обращать пристальное внимание на его семейное положение, количество детей и цель кредитования."
   ]
  }
 ],
 "metadata": {
  "ExecuteTimeLog": [
   {
    "duration": 410,
    "start_time": "2022-10-09T16:00:59.793Z"
   },
   {
    "duration": 21,
    "start_time": "2022-10-09T16:01:00.205Z"
   },
   {
    "duration": 15,
    "start_time": "2022-10-09T16:01:00.227Z"
   },
   {
    "duration": 10,
    "start_time": "2022-10-09T16:01:00.244Z"
   },
   {
    "duration": 34,
    "start_time": "2022-10-09T16:01:00.255Z"
   },
   {
    "duration": 4,
    "start_time": "2022-10-09T16:01:00.290Z"
   },
   {
    "duration": 15,
    "start_time": "2022-10-09T16:01:00.296Z"
   },
   {
    "duration": 8,
    "start_time": "2022-10-09T16:01:00.313Z"
   },
   {
    "duration": 21,
    "start_time": "2022-10-09T16:01:00.338Z"
   },
   {
    "duration": 23,
    "start_time": "2022-10-09T16:01:00.363Z"
   },
   {
    "duration": 42,
    "start_time": "2022-10-09T16:01:00.387Z"
   },
   {
    "duration": 9,
    "start_time": "2022-10-09T16:01:00.430Z"
   },
   {
    "duration": 12,
    "start_time": "2022-10-09T16:01:00.440Z"
   },
   {
    "duration": 20,
    "start_time": "2022-10-09T16:01:00.453Z"
   },
   {
    "duration": 28,
    "start_time": "2022-10-09T16:01:00.475Z"
   },
   {
    "duration": 15,
    "start_time": "2022-10-09T16:01:00.504Z"
   },
   {
    "duration": 13,
    "start_time": "2022-10-09T16:01:00.520Z"
   },
   {
    "duration": 20,
    "start_time": "2022-10-09T16:01:00.534Z"
   },
   {
    "duration": 12,
    "start_time": "2022-10-09T16:01:00.556Z"
   },
   {
    "duration": 4,
    "start_time": "2022-10-09T16:01:00.570Z"
   },
   {
    "duration": 15,
    "start_time": "2022-10-09T16:01:00.576Z"
   },
   {
    "duration": 14,
    "start_time": "2022-10-09T16:01:00.592Z"
   },
   {
    "duration": 12,
    "start_time": "2022-10-09T16:01:00.608Z"
   },
   {
    "duration": 8,
    "start_time": "2022-10-09T16:01:00.621Z"
   },
   {
    "duration": 11,
    "start_time": "2022-10-09T16:01:00.630Z"
   },
   {
    "duration": 12,
    "start_time": "2022-10-09T16:02:04.948Z"
   },
   {
    "duration": 3,
    "start_time": "2022-10-09T16:05:54.648Z"
   },
   {
    "duration": 56,
    "start_time": "2022-10-09T17:12:26.461Z"
   },
   {
    "duration": 638,
    "start_time": "2022-10-09T17:12:33.052Z"
   },
   {
    "duration": 21,
    "start_time": "2022-10-09T17:12:33.692Z"
   },
   {
    "duration": 13,
    "start_time": "2022-10-09T17:12:33.715Z"
   },
   {
    "duration": 23,
    "start_time": "2022-10-09T17:12:33.730Z"
   },
   {
    "duration": 38,
    "start_time": "2022-10-09T17:12:33.755Z"
   },
   {
    "duration": 3,
    "start_time": "2022-10-09T17:12:33.795Z"
   },
   {
    "duration": 10,
    "start_time": "2022-10-09T17:12:33.800Z"
   },
   {
    "duration": 5,
    "start_time": "2022-10-09T17:12:33.812Z"
   },
   {
    "duration": 7,
    "start_time": "2022-10-09T17:12:33.818Z"
   },
   {
    "duration": 4,
    "start_time": "2022-10-09T17:12:33.826Z"
   },
   {
    "duration": 33,
    "start_time": "2022-10-09T17:12:33.832Z"
   },
   {
    "duration": 46,
    "start_time": "2022-10-09T17:12:33.866Z"
   },
   {
    "duration": 3,
    "start_time": "2022-10-09T17:12:33.914Z"
   },
   {
    "duration": 10,
    "start_time": "2022-10-09T17:12:33.920Z"
   },
   {
    "duration": 21,
    "start_time": "2022-10-09T17:12:33.932Z"
   },
   {
    "duration": 15,
    "start_time": "2022-10-09T17:12:33.954Z"
   },
   {
    "duration": 3,
    "start_time": "2022-10-09T17:12:33.971Z"
   },
   {
    "duration": 10,
    "start_time": "2022-10-09T17:12:34.008Z"
   },
   {
    "duration": 9,
    "start_time": "2022-10-09T17:12:34.019Z"
   },
   {
    "duration": 3,
    "start_time": "2022-10-09T17:12:34.029Z"
   },
   {
    "duration": 13,
    "start_time": "2022-10-09T17:12:34.034Z"
   },
   {
    "duration": 32,
    "start_time": "2022-10-09T17:12:34.048Z"
   },
   {
    "duration": 0,
    "start_time": "2022-10-09T17:12:34.082Z"
   },
   {
    "duration": 0,
    "start_time": "2022-10-09T17:12:34.108Z"
   },
   {
    "duration": 0,
    "start_time": "2022-10-09T17:12:34.110Z"
   },
   {
    "duration": 7,
    "start_time": "2022-10-09T17:12:48.564Z"
   },
   {
    "duration": 5,
    "start_time": "2022-10-09T17:16:55.571Z"
   },
   {
    "duration": 5,
    "start_time": "2022-10-09T17:18:02.447Z"
   },
   {
    "duration": 5,
    "start_time": "2022-10-09T17:19:50.768Z"
   },
   {
    "duration": 5,
    "start_time": "2022-10-09T17:19:53.636Z"
   },
   {
    "duration": 7,
    "start_time": "2022-10-09T17:20:58.743Z"
   },
   {
    "duration": 7,
    "start_time": "2022-10-09T17:21:44.320Z"
   },
   {
    "duration": 9,
    "start_time": "2022-10-09T17:31:55.307Z"
   },
   {
    "duration": 9,
    "start_time": "2022-10-09T17:38:29.149Z"
   },
   {
    "duration": 13,
    "start_time": "2022-10-09T17:38:44.925Z"
   },
   {
    "duration": 9,
    "start_time": "2022-10-09T17:38:57.487Z"
   },
   {
    "duration": 11,
    "start_time": "2022-10-09T17:50:54.236Z"
   },
   {
    "duration": 52,
    "start_time": "2022-10-11T16:10:12.352Z"
   },
   {
    "duration": 639,
    "start_time": "2022-10-11T16:10:16.986Z"
   },
   {
    "duration": 21,
    "start_time": "2022-10-11T16:10:17.627Z"
   },
   {
    "duration": 20,
    "start_time": "2022-10-11T16:10:17.650Z"
   },
   {
    "duration": 11,
    "start_time": "2022-10-11T16:10:17.672Z"
   },
   {
    "duration": 49,
    "start_time": "2022-10-11T16:10:17.684Z"
   },
   {
    "duration": 4,
    "start_time": "2022-10-11T16:10:17.735Z"
   },
   {
    "duration": 10,
    "start_time": "2022-10-11T16:10:17.741Z"
   },
   {
    "duration": 5,
    "start_time": "2022-10-11T16:10:17.753Z"
   },
   {
    "duration": 11,
    "start_time": "2022-10-11T16:10:17.759Z"
   },
   {
    "duration": 8,
    "start_time": "2022-10-11T16:10:17.773Z"
   },
   {
    "duration": 56,
    "start_time": "2022-10-11T16:10:17.782Z"
   },
   {
    "duration": 9,
    "start_time": "2022-10-11T16:10:17.839Z"
   },
   {
    "duration": 6,
    "start_time": "2022-10-11T16:10:17.849Z"
   },
   {
    "duration": 13,
    "start_time": "2022-10-11T16:10:17.856Z"
   },
   {
    "duration": 25,
    "start_time": "2022-10-11T16:10:17.871Z"
   },
   {
    "duration": 15,
    "start_time": "2022-10-11T16:10:17.898Z"
   },
   {
    "duration": 4,
    "start_time": "2022-10-11T16:10:17.914Z"
   },
   {
    "duration": 23,
    "start_time": "2022-10-11T16:10:17.919Z"
   },
   {
    "duration": 6,
    "start_time": "2022-10-11T16:10:17.943Z"
   },
   {
    "duration": 4,
    "start_time": "2022-10-11T16:10:17.951Z"
   },
   {
    "duration": 15,
    "start_time": "2022-10-11T16:10:17.957Z"
   },
   {
    "duration": 35,
    "start_time": "2022-10-11T16:10:17.973Z"
   },
   {
    "duration": 0,
    "start_time": "2022-10-11T16:10:18.010Z"
   },
   {
    "duration": 0,
    "start_time": "2022-10-11T16:10:18.011Z"
   },
   {
    "duration": 0,
    "start_time": "2022-10-11T16:10:18.033Z"
   },
   {
    "duration": 15,
    "start_time": "2022-10-11T16:11:29.694Z"
   },
   {
    "duration": 13,
    "start_time": "2022-10-11T16:11:59.504Z"
   },
   {
    "duration": 72,
    "start_time": "2022-10-11T16:12:03.902Z"
   },
   {
    "duration": 15,
    "start_time": "2022-10-11T16:12:03.976Z"
   },
   {
    "duration": 33,
    "start_time": "2022-10-11T16:12:03.993Z"
   },
   {
    "duration": 13,
    "start_time": "2022-10-11T16:12:04.028Z"
   },
   {
    "duration": 37,
    "start_time": "2022-10-11T16:12:04.043Z"
   },
   {
    "duration": 3,
    "start_time": "2022-10-11T16:12:04.082Z"
   },
   {
    "duration": 16,
    "start_time": "2022-10-11T16:12:04.086Z"
   },
   {
    "duration": 9,
    "start_time": "2022-10-11T16:12:04.103Z"
   },
   {
    "duration": 7,
    "start_time": "2022-10-11T16:12:04.114Z"
   },
   {
    "duration": 16,
    "start_time": "2022-10-11T16:12:04.122Z"
   },
   {
    "duration": 40,
    "start_time": "2022-10-11T16:12:04.140Z"
   },
   {
    "duration": 10,
    "start_time": "2022-10-11T16:12:04.181Z"
   },
   {
    "duration": 13,
    "start_time": "2022-10-11T16:12:04.193Z"
   },
   {
    "duration": 16,
    "start_time": "2022-10-11T16:12:04.208Z"
   },
   {
    "duration": 21,
    "start_time": "2022-10-11T16:12:04.233Z"
   },
   {
    "duration": 21,
    "start_time": "2022-10-11T16:12:04.255Z"
   },
   {
    "duration": 4,
    "start_time": "2022-10-11T16:12:04.278Z"
   },
   {
    "duration": 25,
    "start_time": "2022-10-11T16:12:04.284Z"
   },
   {
    "duration": 18,
    "start_time": "2022-10-11T16:12:04.310Z"
   },
   {
    "duration": 9,
    "start_time": "2022-10-11T16:12:04.330Z"
   },
   {
    "duration": 18,
    "start_time": "2022-10-11T16:12:04.340Z"
   },
   {
    "duration": 19,
    "start_time": "2022-10-11T16:12:04.359Z"
   },
   {
    "duration": 0,
    "start_time": "2022-10-11T16:12:04.379Z"
   },
   {
    "duration": 1,
    "start_time": "2022-10-11T16:12:04.380Z"
   },
   {
    "duration": 0,
    "start_time": "2022-10-11T16:12:04.382Z"
   },
   {
    "duration": 11,
    "start_time": "2022-10-11T16:13:41.004Z"
   },
   {
    "duration": 14,
    "start_time": "2022-10-11T16:16:12.898Z"
   },
   {
    "duration": 12,
    "start_time": "2022-10-11T16:27:19.074Z"
   },
   {
    "duration": 12,
    "start_time": "2022-10-11T16:30:14.933Z"
   },
   {
    "duration": 74,
    "start_time": "2022-10-11T16:42:04.683Z"
   },
   {
    "duration": 18,
    "start_time": "2022-10-11T16:42:04.760Z"
   },
   {
    "duration": 19,
    "start_time": "2022-10-11T16:42:04.779Z"
   },
   {
    "duration": 11,
    "start_time": "2022-10-11T16:42:04.801Z"
   },
   {
    "duration": 63,
    "start_time": "2022-10-11T16:42:04.813Z"
   },
   {
    "duration": 4,
    "start_time": "2022-10-11T16:42:04.877Z"
   },
   {
    "duration": 19,
    "start_time": "2022-10-11T16:42:04.883Z"
   },
   {
    "duration": 5,
    "start_time": "2022-10-11T16:42:04.904Z"
   },
   {
    "duration": 27,
    "start_time": "2022-10-11T16:42:04.910Z"
   },
   {
    "duration": 7,
    "start_time": "2022-10-11T16:42:04.941Z"
   },
   {
    "duration": 45,
    "start_time": "2022-10-11T16:42:04.950Z"
   },
   {
    "duration": 9,
    "start_time": "2022-10-11T16:42:04.997Z"
   },
   {
    "duration": 4,
    "start_time": "2022-10-11T16:42:05.008Z"
   },
   {
    "duration": 9,
    "start_time": "2022-10-11T16:42:05.034Z"
   },
   {
    "duration": 23,
    "start_time": "2022-10-11T16:42:05.045Z"
   },
   {
    "duration": 17,
    "start_time": "2022-10-11T16:42:05.069Z"
   },
   {
    "duration": 4,
    "start_time": "2022-10-11T16:42:05.087Z"
   },
   {
    "duration": 18,
    "start_time": "2022-10-11T16:42:05.092Z"
   },
   {
    "duration": 23,
    "start_time": "2022-10-11T16:42:05.111Z"
   },
   {
    "duration": 3,
    "start_time": "2022-10-11T16:42:05.136Z"
   },
   {
    "duration": 15,
    "start_time": "2022-10-11T16:42:05.141Z"
   },
   {
    "duration": 12,
    "start_time": "2022-10-11T16:42:05.157Z"
   },
   {
    "duration": 15,
    "start_time": "2022-10-11T16:42:05.171Z"
   },
   {
    "duration": 13,
    "start_time": "2022-10-11T16:42:05.187Z"
   },
   {
    "duration": 13,
    "start_time": "2022-10-11T16:42:05.233Z"
   }
  ],
  "colab": {
   "name": "dpp_template_part2.ipynb",
   "provenance": []
  },
  "kernelspec": {
   "display_name": "Python 3 (ipykernel)",
   "language": "python",
   "name": "python3"
  },
  "language_info": {
   "codemirror_mode": {
    "name": "ipython",
    "version": 3
   },
   "file_extension": ".py",
   "mimetype": "text/x-python",
   "name": "python",
   "nbconvert_exporter": "python",
   "pygments_lexer": "ipython3",
   "version": "3.9.13"
  },
  "toc": {
   "base_numbering": 1,
   "nav_menu": {},
   "number_sections": true,
   "sideBar": true,
   "skip_h1_title": true,
   "title_cell": "Table of Contents",
   "title_sidebar": "Contents",
   "toc_cell": false,
   "toc_position": {},
   "toc_section_display": true,
   "toc_window_display": false
  }
 },
 "nbformat": 4,
 "nbformat_minor": 5
}
